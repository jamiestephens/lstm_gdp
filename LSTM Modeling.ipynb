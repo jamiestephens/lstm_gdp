{
 "cells": [
  {
   "cell_type": "code",
   "execution_count": 138,
   "metadata": {},
   "outputs": [],
   "source": [
    "import pandas as pd\n",
    "import numpy as np\n",
    "import re\n",
    "import matplotlib.pyplot as plt"
   ]
  },
  {
   "cell_type": "code",
   "execution_count": 151,
   "metadata": {},
   "outputs": [],
   "source": [
    "X = pd.read_csv('./data/input_data.csv')\n",
    "Y = pd.read_csv('./data/output_data.csv')\n",
    "\n",
    "X['Date']= pd.to_datetime(X['Date'])\n",
    "X = X.set_index(['Date'])\n",
    "Y['Quarter End'] = pd.to_datetime(Y['Quarter End'])\n",
    "Y = Y.set_index(['Quarter End'])"
   ]
  },
  {
   "cell_type": "code",
   "execution_count": 153,
   "metadata": {},
   "outputs": [
    {
     "data": {
      "text/html": [
       "<div>\n",
       "<style scoped>\n",
       "    .dataframe tbody tr th:only-of-type {\n",
       "        vertical-align: middle;\n",
       "    }\n",
       "\n",
       "    .dataframe tbody tr th {\n",
       "        vertical-align: top;\n",
       "    }\n",
       "\n",
       "    .dataframe thead th {\n",
       "        text-align: right;\n",
       "    }\n",
       "</style>\n",
       "<table border=\"1\" class=\"dataframe\">\n",
       "  <thead>\n",
       "    <tr style=\"text-align: right;\">\n",
       "      <th></th>\n",
       "      <th>Real GDP</th>\n",
       "      <th>GDP shift 1q</th>\n",
       "      <th>GDP shift 1yr</th>\n",
       "    </tr>\n",
       "    <tr>\n",
       "      <th>Quarter End</th>\n",
       "      <th></th>\n",
       "      <th></th>\n",
       "      <th></th>\n",
       "    </tr>\n",
       "  </thead>\n",
       "  <tbody>\n",
       "    <tr>\n",
       "      <th>1990-01-01</th>\n",
       "      <td>9364.259</td>\n",
       "      <td>9398.243</td>\n",
       "      <td>9275.276</td>\n",
       "    </tr>\n",
       "    <tr>\n",
       "      <th>1990-04-01</th>\n",
       "      <td>9398.243</td>\n",
       "      <td>9404.494</td>\n",
       "      <td>9347.597</td>\n",
       "    </tr>\n",
       "    <tr>\n",
       "      <th>1990-07-01</th>\n",
       "      <td>9404.494</td>\n",
       "      <td>9318.876</td>\n",
       "      <td>9394.834</td>\n",
       "    </tr>\n",
       "    <tr>\n",
       "      <th>1990-10-01</th>\n",
       "      <td>9318.876</td>\n",
       "      <td>9275.276</td>\n",
       "      <td>9427.581</td>\n",
       "    </tr>\n",
       "    <tr>\n",
       "      <th>1991-01-01</th>\n",
       "      <td>9275.276</td>\n",
       "      <td>9347.597</td>\n",
       "      <td>9540.444</td>\n",
       "    </tr>\n",
       "  </tbody>\n",
       "</table>\n",
       "</div>"
      ],
      "text/plain": [
       "             Real GDP  GDP shift 1q  GDP shift 1yr\n",
       "Quarter End                                       \n",
       "1990-01-01   9364.259      9398.243       9275.276\n",
       "1990-04-01   9398.243      9404.494       9347.597\n",
       "1990-07-01   9404.494      9318.876       9394.834\n",
       "1990-10-01   9318.876      9275.276       9427.581\n",
       "1991-01-01   9275.276      9347.597       9540.444"
      ]
     },
     "execution_count": 153,
     "metadata": {},
     "output_type": "execute_result"
    }
   ],
   "source": [
    "Y.head()"
   ]
  },
  {
   "cell_type": "code",
   "execution_count": 163,
   "metadata": {},
   "outputs": [
    {
     "data": {
      "text/plain": [
       "1 mo TB                0\n",
       "2 mo TB                0\n",
       "3 mo TB                0\n",
       "6 mo TB                0\n",
       "1 yr TB                0\n",
       "2 yr TB                0\n",
       "3 yr TB                0\n",
       "5 yr TB                0\n",
       "7 yr TB                0\n",
       "10 yr TB               0\n",
       "20 yr TB               0\n",
       "30 yr TB               0\n",
       "Baa                    0\n",
       "DFF                    0\n",
       "3 mo TB vs DFF         0\n",
       "1 yr TB vs 3 mo TB     0\n",
       "2 yr TB vs 1 yr TB     0\n",
       "5 yr TB vs 2 yr TB     0\n",
       "10 yr TB vs 2 yr TB    0\n",
       "10 yr TB vs 3 mo TB    0\n",
       "Baa vs 10 yr TB        0\n",
       "dtype: int64"
      ]
     },
     "execution_count": 163,
     "metadata": {},
     "output_type": "execute_result"
    }
   ],
   "source": [
    "X['1 mo TB'] = X['1 mo TB'].ffill(limit=1)\n",
    "\n",
    "X['1 mo TB'] = X['1 mo TB'].fillna(0)\n",
    "X['2 mo TB'] = X['2 mo TB'].fillna(0)\n",
    "X['3 mo TB'] = X['3 mo TB'].fillna(0)\n",
    "X['6 mo TB'] = X['6 mo TB'].fillna(0)\n",
    "X['1 yr TB'] = X['1 yr TB'].fillna(0)\n",
    "X['2 yr TB'] = X['2 yr TB'].fillna(0)\n",
    "X['3 yr TB'] = X['3 yr TB'].fillna(0)\n",
    "X['5 yr TB'] = X['5 yr TB'].fillna(0)\n",
    "X['7 yr TB'] = X['7 yr TB'].fillna(0)\n",
    "X['10 yr TB'] = X['10 yr TB'].fillna(0)\n",
    "X['20 yr TB'] = X['20 yr TB'].fillna(0)\n",
    "X['30 yr TB'] = X['30 yr TB'].fillna(0)\n",
    "X['Baa vs 10 yr TB'] = X['Baa vs 10 yr TB'].fillna(0)\n",
    "#X[\"Baa\"] = X.groupby('DFF')['Baa'].transform(lambda x: x.ffill())\n",
    "X['Baa'] = X['Baa'].ffill()\n",
    "X.head()\n",
    "X.isna().sum()\n",
    "#X = X.astype(float)"
   ]
  },
  {
   "cell_type": "code",
   "execution_count": 147,
   "metadata": {},
   "outputs": [
    {
     "data": {
      "text/plain": [
       "Timestamp('1990-01-03 00:00:00')"
      ]
     },
     "execution_count": 147,
     "metadata": {},
     "output_type": "execute_result"
    }
   ],
   "source": [
    "X.index[1]"
   ]
  },
  {
   "cell_type": "markdown",
   "metadata": {},
   "source": [
    "## Establish Input Shape and Sequence Padding\n",
    "\n"
   ]
  },
  {
   "cell_type": "code",
   "execution_count": 167,
   "metadata": {
    "scrolled": true
   },
   "outputs": [
    {
     "data": {
      "text/plain": [
       "(63, 21)"
      ]
     },
     "execution_count": 167,
     "metadata": {},
     "output_type": "execute_result"
    }
   ],
   "source": [
    "maxlength = 0\n",
    "X_1 = pd.DataFrame(index=Y.index)\n",
    "X_1['Arr'] = \"\"\n",
    "for i in range(1,len(Y)):\n",
    "    quarter_input = X.loc[Y.index[i-1]:Y.index[i]]    \n",
    "    if len(quarter_input) > maxlength:\n",
    "        maxlength = len(quarter_input)\n",
    "    quarter_input = quarter_input[quarter_input.columns[:]].to_numpy()\n",
    "    X_1.at[X_1.index[i], 'Arr'] = quarter_input\n",
    "   # X_1.\n",
    "\n",
    "\n",
    "X_1.iloc[2]['Arr'].shape\n",
    "\n",
    "#X_1.il.shape\n",
    "#quarter_input\n",
    "\n",
    "#quarter_input.reshape(62)\n",
    "\n",
    "#np.reshape(quarter_input,62)\n",
    "\n",
    "#quarter_input"
   ]
  },
  {
   "cell_type": "code",
   "execution_count": 111,
   "metadata": {},
   "outputs": [],
   "source": [
    "# cols = X[X.columns[1:]].to_numpy()\n",
    "\n",
    "#X_1 = X.iloc[:,1:].values\n",
    "\n",
    "##X_1"
   ]
  },
  {
   "cell_type": "code",
   "execution_count": 24,
   "metadata": {},
   "outputs": [
    {
     "data": {
      "text/plain": [
       "['1/2/1990',\n",
       " nan,\n",
       " nan,\n",
       " 7.83,\n",
       " 7.89,\n",
       " 7.81,\n",
       " 7.87,\n",
       " 7.9,\n",
       " 7.87,\n",
       " 7.98,\n",
       " 7.94,\n",
       " nan,\n",
       " 8.0,\n",
       " 9.85,\n",
       " 8.54,\n",
       " '-0.71',\n",
       " '-0.02',\n",
       " '0.06',\n",
       " '0.00',\n",
       " '0.07',\n",
       " '0.11',\n",
       " 1.91]"
      ]
     },
     "execution_count": 24,
     "metadata": {},
     "output_type": "execute_result"
    }
   ],
   "source": [
    "#X_1\n",
    "\n",
    "#for i in range(0,len(X)):\n",
    "    "
   ]
  },
  {
   "cell_type": "code",
   "execution_count": null,
   "metadata": {},
   "outputs": [],
   "source": [
    "model = Sequential()\n",
    "model.add(LSTM(50, activation='relu', input_shape=(3, 1)))\n",
    "model.add(Dense(1))\n",
    "model.compile(optimizer='adam', loss='mse')"
   ]
  }
 ],
 "metadata": {
  "kernelspec": {
   "display_name": "Python 3",
   "language": "python",
   "name": "python3"
  },
  "language_info": {
   "codemirror_mode": {
    "name": "ipython",
    "version": 3
   },
   "file_extension": ".py",
   "mimetype": "text/x-python",
   "name": "python",
   "nbconvert_exporter": "python",
   "pygments_lexer": "ipython3",
   "version": "3.7.6"
  }
 },
 "nbformat": 4,
 "nbformat_minor": 4
}
